{
 "cells": [
  {
   "cell_type": "markdown",
   "id": "28b7b8f6",
   "metadata": {},
   "source": [
    "# Scrape movie information from IMDB using python and Beautiful Soup."
   ]
  },
  {
   "cell_type": "markdown",
   "id": "a6807fb9",
   "metadata": {},
   "source": [
    "This project intends to demonstrate web scraping on imdb.com for retrieving information about movies of various genres using Python, Beautiful Soup, and requests.\n",
    "Web scraping is a method that automates the process of gathering data from webpages and storing it in appropriate forms. Web scraping allows you to quickly retrieve a significant quantity of information from many websites.\n",
    "#### Why scraping from IMDB?\n",
    "If you want to design a movie recommendation engine that recommends movies based on your preferences, you'll need data sets of various movies from various genres, including their name, rating, release year, Metascore, genre, brief description, movie certificate, votes, and so on.\n",
    "#### Procedures:\n",
    "- Import the necessary modules.\n",
    "- Obtaining URLs from various genres.\n",
    "- Using Beautiful Soup and requests, parse the website with the URL containing movies of various genres.\n",
    "- Extract information such as the title, genre, year of release, rating, certificate, Metascore, votes, and so on.\n",
    "- Convert all data into a pandas data frame and save as a CSV file."
   ]
  },
  {
   "cell_type": "markdown",
   "id": "942183e3",
   "metadata": {},
   "source": [
    "#### Import the necessary modules"
   ]
  },
  {
   "cell_type": "code",
   "execution_count": 1,
   "id": "d18c6627",
   "metadata": {},
   "outputs": [],
   "source": [
    "import requests\n",
    "from bs4 import BeautifulSoup\n",
    "import pandas as pd\n",
    "\n",
    "HEADERS ={\"User-Agent\":\"Mozilla/5.0 (Windows NT 10.0; Win64; x64; rv:66.0) Gecko/20100101 Firefox/66.0\", \"Accept-Encoding\":\"gzip, deflate\", \"Accept\":\"text/html,application/xhtml+xml,application/xml;q=0.9,*/*;q=0.8\", \"DNT\":\"1\",\"Connection\":\"close\", \"Upgrade-Insecure-Requests\":\"1\"}"
   ]
  },
  {
   "cell_type": "markdown",
   "id": "76e71d1d",
   "metadata": {},
   "source": [
    "#### Obtaining URLs from various genres."
   ]
  },
  {
   "cell_type": "code",
   "execution_count": 2,
   "id": "d5cab572",
   "metadata": {},
   "outputs": [
    {
     "name": "stdout",
     "output_type": "stream",
     "text": [
      "{'Adventure': 'https://www.imdb.com/search/title/?genres=Adventure&sort=user_rating,desc&title_type=feature&num_votes=25000,&pf_rd_m=A2FGELUUNOQJNL&pf_rd_p=5aab685f-35eb-40f3-95f7-c53f09d542c3&pf_rd_r=N97GEQS6R7J9EV7V770D&pf_rd_s=right-6&pf_rd_t=15506&pf_rd_i=top&ref_=chttp_gnr_16', 'Animation': 'https://www.imdb.com/search/title/?genres=Animation&sort=user_rating,desc&title_type=feature&num_votes=25000,&pf_rd_m=A2FGELUUNOQJNL&pf_rd_p=5aab685f-35eb-40f3-95f7-c53f09d542c3&pf_rd_r=N97GEQS6R7J9EV7V770D&pf_rd_s=right-6&pf_rd_t=15506&pf_rd_i=top&ref_=chttp_gnr_16', 'Biography': 'https://www.imdb.com/search/title/?genres=Biography&sort=user_rating,desc&title_type=feature&num_votes=25000,&pf_rd_m=A2FGELUUNOQJNL&pf_rd_p=5aab685f-35eb-40f3-95f7-c53f09d542c3&pf_rd_r=N97GEQS6R7J9EV7V770D&pf_rd_s=right-6&pf_rd_t=15506&pf_rd_i=top&ref_=chttp_gnr_16', 'Comedy': 'https://www.imdb.com/search/title/?genres=Comedy&sort=user_rating,desc&title_type=feature&num_votes=25000,&pf_rd_m=A2FGELUUNOQJNL&pf_rd_p=5aab685f-35eb-40f3-95f7-c53f09d542c3&pf_rd_r=N97GEQS6R7J9EV7V770D&pf_rd_s=right-6&pf_rd_t=15506&pf_rd_i=top&ref_=chttp_gnr_16', 'Crime': 'https://www.imdb.com/search/title/?genres=Crime&sort=user_rating,desc&title_type=feature&num_votes=25000,&pf_rd_m=A2FGELUUNOQJNL&pf_rd_p=5aab685f-35eb-40f3-95f7-c53f09d542c3&pf_rd_r=N97GEQS6R7J9EV7V770D&pf_rd_s=right-6&pf_rd_t=15506&pf_rd_i=top&ref_=chttp_gnr_16', 'Drama': 'https://www.imdb.com/search/title/?genres=Drama&sort=user_rating,desc&title_type=feature&num_votes=25000,&pf_rd_m=A2FGELUUNOQJNL&pf_rd_p=5aab685f-35eb-40f3-95f7-c53f09d542c3&pf_rd_r=N97GEQS6R7J9EV7V770D&pf_rd_s=right-6&pf_rd_t=15506&pf_rd_i=top&ref_=chttp_gnr_16', 'Family': 'https://www.imdb.com/search/title/?genres=Family&sort=user_rating,desc&title_type=feature&num_votes=25000,&pf_rd_m=A2FGELUUNOQJNL&pf_rd_p=5aab685f-35eb-40f3-95f7-c53f09d542c3&pf_rd_r=N97GEQS6R7J9EV7V770D&pf_rd_s=right-6&pf_rd_t=15506&pf_rd_i=top&ref_=chttp_gnr_16', 'Fantasy': 'https://www.imdb.com/search/title/?genres=Fantasy&sort=user_rating,desc&title_type=feature&num_votes=25000,&pf_rd_m=A2FGELUUNOQJNL&pf_rd_p=5aab685f-35eb-40f3-95f7-c53f09d542c3&pf_rd_r=N97GEQS6R7J9EV7V770D&pf_rd_s=right-6&pf_rd_t=15506&pf_rd_i=top&ref_=chttp_gnr_16', 'Film-Noir': 'https://www.imdb.com/search/title/?genres=Film-Noir&sort=user_rating,desc&title_type=feature&num_votes=25000,&pf_rd_m=A2FGELUUNOQJNL&pf_rd_p=5aab685f-35eb-40f3-95f7-c53f09d542c3&pf_rd_r=N97GEQS6R7J9EV7V770D&pf_rd_s=right-6&pf_rd_t=15506&pf_rd_i=top&ref_=chttp_gnr_16', 'History': 'https://www.imdb.com/search/title/?genres=History&sort=user_rating,desc&title_type=feature&num_votes=25000,&pf_rd_m=A2FGELUUNOQJNL&pf_rd_p=5aab685f-35eb-40f3-95f7-c53f09d542c3&pf_rd_r=N97GEQS6R7J9EV7V770D&pf_rd_s=right-6&pf_rd_t=15506&pf_rd_i=top&ref_=chttp_gnr_16', 'Horror': 'https://www.imdb.com/search/title/?genres=Horror&sort=user_rating,desc&title_type=feature&num_votes=25000,&pf_rd_m=A2FGELUUNOQJNL&pf_rd_p=5aab685f-35eb-40f3-95f7-c53f09d542c3&pf_rd_r=N97GEQS6R7J9EV7V770D&pf_rd_s=right-6&pf_rd_t=15506&pf_rd_i=top&ref_=chttp_gnr_16', 'Music': 'https://www.imdb.com/search/title/?genres=Music&sort=user_rating,desc&title_type=feature&num_votes=25000,&pf_rd_m=A2FGELUUNOQJNL&pf_rd_p=5aab685f-35eb-40f3-95f7-c53f09d542c3&pf_rd_r=N97GEQS6R7J9EV7V770D&pf_rd_s=right-6&pf_rd_t=15506&pf_rd_i=top&ref_=chttp_gnr_16', 'Musical': 'https://www.imdb.com/search/title/?genres=Musical&sort=user_rating,desc&title_type=feature&num_votes=25000,&pf_rd_m=A2FGELUUNOQJNL&pf_rd_p=5aab685f-35eb-40f3-95f7-c53f09d542c3&pf_rd_r=N97GEQS6R7J9EV7V770D&pf_rd_s=right-6&pf_rd_t=15506&pf_rd_i=top&ref_=chttp_gnr_16', 'Mystery': 'https://www.imdb.com/search/title/?genres=Mystery&sort=user_rating,desc&title_type=feature&num_votes=25000,&pf_rd_m=A2FGELUUNOQJNL&pf_rd_p=5aab685f-35eb-40f3-95f7-c53f09d542c3&pf_rd_r=N97GEQS6R7J9EV7V770D&pf_rd_s=right-6&pf_rd_t=15506&pf_rd_i=top&ref_=chttp_gnr_16', 'Romance': 'https://www.imdb.com/search/title/?genres=Romance&sort=user_rating,desc&title_type=feature&num_votes=25000,&pf_rd_m=A2FGELUUNOQJNL&pf_rd_p=5aab685f-35eb-40f3-95f7-c53f09d542c3&pf_rd_r=N97GEQS6R7J9EV7V770D&pf_rd_s=right-6&pf_rd_t=15506&pf_rd_i=top&ref_=chttp_gnr_16', 'Sci-Fi': 'https://www.imdb.com/search/title/?genres=Sci-Fi&sort=user_rating,desc&title_type=feature&num_votes=25000,&pf_rd_m=A2FGELUUNOQJNL&pf_rd_p=5aab685f-35eb-40f3-95f7-c53f09d542c3&pf_rd_r=N97GEQS6R7J9EV7V770D&pf_rd_s=right-6&pf_rd_t=15506&pf_rd_i=top&ref_=chttp_gnr_16', 'Sport': 'https://www.imdb.com/search/title/?genres=Sport&sort=user_rating,desc&title_type=feature&num_votes=25000,&pf_rd_m=A2FGELUUNOQJNL&pf_rd_p=5aab685f-35eb-40f3-95f7-c53f09d542c3&pf_rd_r=N97GEQS6R7J9EV7V770D&pf_rd_s=right-6&pf_rd_t=15506&pf_rd_i=top&ref_=chttp_gnr_16', 'Thriller': 'https://www.imdb.com/search/title/?genres=Thriller&sort=user_rating,desc&title_type=feature&num_votes=25000,&pf_rd_m=A2FGELUUNOQJNL&pf_rd_p=5aab685f-35eb-40f3-95f7-c53f09d542c3&pf_rd_r=N97GEQS6R7J9EV7V770D&pf_rd_s=right-6&pf_rd_t=15506&pf_rd_i=top&ref_=chttp_gnr_16', 'War': 'https://www.imdb.com/search/title/?genres=War&sort=user_rating,desc&title_type=feature&num_votes=25000,&pf_rd_m=A2FGELUUNOQJNL&pf_rd_p=5aab685f-35eb-40f3-95f7-c53f09d542c3&pf_rd_r=N97GEQS6R7J9EV7V770D&pf_rd_s=right-6&pf_rd_t=15506&pf_rd_i=top&ref_=chttp_gnr_16', 'Western': 'https://www.imdb.com/search/title/?genres=Western&sort=user_rating,desc&title_type=feature&num_votes=25000,&pf_rd_m=A2FGELUUNOQJNL&pf_rd_p=5aab685f-35eb-40f3-95f7-c53f09d542c3&pf_rd_r=N97GEQS6R7J9EV7V770D&pf_rd_s=right-6&pf_rd_t=15506&pf_rd_i=top&ref_=chttp_gnr_16'}\n"
     ]
    }
   ],
   "source": [
    "genres = [\n",
    "    \n",
    "    \"Adventure\",\n",
    "    \"Animation\",\n",
    "    \"Biography\",\n",
    "    \"Comedy\",\n",
    "    \"Crime\",\n",
    "    \"Drama\",\n",
    "    \"Family\",\n",
    "    \"Fantasy\",\n",
    "    \"Film-Noir\",\n",
    "    \"History\",\n",
    "    \"Horror\",\n",
    "    \"Music\",\n",
    "    \"Musical\",\n",
    "    \"Mystery\",\n",
    "    \"Romance\",\n",
    "    \"Sci-Fi\",\n",
    "    \"Sport\",\n",
    "    \"Thriller\",\n",
    "    \"War\",\n",
    "    \"Western\"\n",
    "]\n",
    "\n",
    "url_dict = {}\n",
    "\n",
    "for genre in genres:\n",
    "    url = \"https://www.imdb.com/search/title/?genres={}&sort=user_rating,desc&title_type=feature&num_votes=25000,&pf_rd_m=A2FGELUUNOQJNL&pf_rd_p=5aab685f-35eb-40f3-95f7-c53f09d542c3&pf_rd_r=N97GEQS6R7J9EV7V770D&pf_rd_s=right-6&pf_rd_t=15506&pf_rd_i=top&ref_=chttp_gnr_16\"\n",
    "    formated_url = url.format(genre)\n",
    "    url_dict[genre] = formated_url\n",
    "    \n",
    "print(url_dict)"
   ]
  },
  {
   "cell_type": "markdown",
   "id": "87f4628d",
   "metadata": {},
   "source": [
    "#### Using Beautiful Soup and requests, parse the website with the URL containing movies of various genres."
   ]
  },
  {
   "cell_type": "code",
   "execution_count": 3,
   "id": "0284f927",
   "metadata": {},
   "outputs": [
    {
     "name": "stdout",
     "output_type": "stream",
     "text": [
      "{'title': '1.\\nThe Lord of the Rings: The Return of the King\\n(2003)', 'year': '(2003)', 'certificate': 'PG', 'time': '201 min', 'genre': 'Action, Adventure, Drama', 'rating': '9.0', 'metascore': '94        \\n        Metascore', 'simple_desc': \"Gandalf and Aragorn lead the World of Men against Sauron's army to draw his gaze from Frodo and Sam as they approach Mount Doom with the One Ring.\", 'votes': 'Votes:\\n1,783,014\\n| Gross:\\n$377.85M'}\n",
      "{'title': '2.\\nInception\\n(2010)', 'year': '(2010)', 'certificate': 'PG-13', 'time': '148 min', 'genre': 'Action, Adventure, Sci-Fi', 'rating': '8.8', 'metascore': '74        \\n        Metascore', 'simple_desc': 'A thief who steals corporate secrets through the use of dream-sharing technology is given the inverse task of planting an idea into the mind of a C.E.O., but his tragic past may doom the project and his team to disaster.', 'votes': 'Votes:\\n2,277,469\\n| Gross:\\n$292.58M'}\n",
      "{'title': '3.\\nThe Lord of the Rings: The Two Towers\\n(2002)', 'year': '(2002)', 'certificate': 'PG', 'time': '179 min', 'genre': 'Action, Adventure, Drama', 'rating': '8.8', 'metascore': '87        \\n        Metascore', 'simple_desc': \"While Frodo and Sam edge closer to Mordor with the help of the shifty Gollum, the divided fellowship makes a stand against Sauron's new ally, Saruman, and his hordes of Isengard.\", 'votes': 'Votes:\\n1,610,327\\n| Gross:\\n$342.55M'}\n",
      "{'title': '4.\\nThe Lord of the Rings: The Fellowship of the Ring\\n(2001)', 'year': '(2001)', 'certificate': 'PG', 'time': '178 min', 'genre': 'Action, Adventure, Drama', 'rating': '8.8', 'metascore': '92        \\n        Metascore', 'simple_desc': 'A meek Hobbit from the Shire and eight companions set out on a journey to destroy the powerful One Ring and save Middle-earth from the Dark Lord Sauron.', 'votes': 'Votes:\\n1,804,162\\n| Gross:\\n$315.54M'}\n",
      "{'title': '6.\\nThe Empire Strikes Back\\n(1980)', 'year': '(1980)', 'certificate': 'PG', 'time': '124 min', 'genre': 'Action, Adventure, Fantasy', 'rating': '8.7', 'metascore': '82        \\n        Metascore', 'simple_desc': 'After the Rebels are brutally overpowered by the Empire on the ice planet Hoth, Luke Skywalker begins Jedi training with Yoda, while his friends are pursued across the galaxy by Darth Vader and bounty hunter Boba Fett.', 'votes': 'Votes:\\n1,255,460\\n| Gross:\\n$290.48M'}\n",
      "{'title': '7.\\nInterstellar\\n(2014)', 'year': '(2014)', 'certificate': 'G', 'time': '169 min', 'genre': 'Adventure, Drama, Sci-Fi', 'rating': '8.6', 'metascore': '74        \\n        Metascore', 'simple_desc': \"A team of explorers travel through a wormhole in space in an attempt to ensure humanity's survival.\", 'votes': 'Votes:\\n1,738,060\\n| Gross:\\n$188.02M'}\n",
      "{'title': '8.\\nSen to Chihiro no kamikakushi\\n(2001)', 'year': '(2001)', 'certificate': 'G', 'time': '125 min', 'genre': 'Animation, Adventure, Family', 'rating': '8.6', 'metascore': '96        \\n        Metascore', 'simple_desc': \"During her family's move to the suburbs, a sullen 10-year-old girl wanders into a world ruled by gods, witches, and spirits, and where humans are changed into beasts.\", 'votes': 'Votes:\\n735,366\\n| Gross:\\n$10.06M'}\n",
      "{'title': '9.\\nStar Wars\\n(1977)', 'year': '(1977)', 'certificate': 'G', 'time': '121 min', 'genre': 'Action, Adventure, Fantasy', 'rating': '8.6', 'metascore': '90        \\n        Metascore', 'simple_desc': \"Luke Skywalker joins forces with a Jedi Knight, a cocky pilot, a Wookiee and two droids to save the galaxy from the Empire's world-destroying battle station, while also attempting to rescue Princess Leia from the mysterious Darth Vader.\", 'votes': 'Votes:\\n1,327,279\\n| Gross:\\n$322.74M'}\n",
      "{'title': '10.\\nGladiator\\n(2000)', 'year': '(2000)', 'certificate': 'R', 'time': '155 min', 'genre': 'Action, Adventure, Drama', 'rating': '8.5', 'metascore': '67        \\n        Metascore', 'simple_desc': 'A former Roman General sets out to exact vengeance against the corrupt emperor who murdered his family and sent him into slavery.', 'votes': 'Votes:\\n1,458,518\\n| Gross:\\n$187.71M'}\n",
      "{'title': '11.\\nThe Lion King\\n(1994)', 'year': '(1994)', 'certificate': 'G', 'time': '88 min', 'genre': 'Animation, Adventure, Drama', 'rating': '8.5', 'metascore': '88        \\n        Metascore', 'simple_desc': 'Lion prince Simba and his father are targeted by his bitter uncle, who wants to ascend the throne himself.', 'votes': 'Votes:\\n1,027,909\\n| Gross:\\n$422.78M'}\n",
      "{'title': '13.\\nSpider-Man: Into the Spider-Verse\\n(2018)', 'year': '(2018)', 'certificate': 'PG', 'time': '117 min', 'genre': 'Animation, Action, Adventure', 'rating': '8.4', 'metascore': '87        \\n        Metascore', 'simple_desc': 'Teen Miles Morales becomes the Spider-Man of his universe, and must join with five spider-powered individuals from other dimensions to stop a threat for all realities.', 'votes': 'Votes:\\n494,230\\n| Gross:\\n$190.24M'}\n",
      "{'title': '14.\\nAvengers: Endgame\\n(2019)', 'year': '(2019)', 'certificate': '12A', 'time': '181 min', 'genre': 'Action, Adventure, Drama', 'rating': '8.4', 'metascore': '78        \\n        Metascore', 'simple_desc': \"After the devastating events of Avengers: Infinity War (2018), the universe is in ruins. With the help of remaining allies, the Avengers assemble once more in order to reverse Thanos' actions and restore balance to the universe.\", 'votes': 'Votes:\\n1,060,263\\n| Gross:\\n$858.37M'}\n",
      "{'title': '15.\\nAvengers: Infinity War\\n(2018)', 'year': '(2018)', 'certificate': '12A', 'time': '149 min', 'genre': 'Action, Adventure, Sci-Fi', 'rating': '8.4', 'metascore': '68        \\n        Metascore', 'simple_desc': 'The Avengers and their allies must be willing to sacrifice all in an attempt to defeat the powerful Thanos before his blitz of devastation and ruin puts an end to the universe.', 'votes': 'Votes:\\n1,021,026\\n| Gross:\\n$678.82M'}\n",
      "{'title': '16.\\nCoco\\n(I) (2017)', 'year': '(I) (2017)', 'certificate': 'G', 'time': '105 min', 'genre': 'Animation, Adventure, Comedy', 'rating': '8.4', 'metascore': '81        \\n        Metascore', 'simple_desc': \"Aspiring musician Miguel, confronted with his family's ancestral ban on music, enters the Land of the Dead to find his great-great-grandfather, a legendary singer.\", 'votes': 'Votes:\\n480,140\\n| Gross:\\n$209.73M'}\n",
      "{'title': '18.\\nMononoke-hime\\n(1997)', 'year': '(1997)', 'certificate': 'PG', 'time': '134 min', 'genre': 'Animation, Adventure, Fantasy', 'rating': '8.4', 'metascore': '76        \\n        Metascore', 'simple_desc': \"On a journey to find the cure for a Tatarigami's curse, Ashitaka finds himself in the middle of a war between the forest gods and Tatara, a mining colony. In this quest he also meets San, the Mononoke Hime.\", 'votes': 'Votes:\\n383,486\\n| Gross:\\n$2.38M'}\n",
      "{'title': '19.\\nAliens\\n(1986)', 'year': '(1986)', 'certificate': '15', 'time': '137 min', 'genre': 'Action, Adventure, Sci-Fi', 'rating': '8.4', 'metascore': '84        \\n        Metascore', 'simple_desc': 'Fifty-seven years after surviving an apocalyptic attack aboard her space vessel by merciless space creatures, Officer Ripley awakens from hyper-sleep and tries to warn anyone who will listen about the predators.', 'votes': 'Votes:\\n701,346\\n| Gross:\\n$85.16M'}\n",
      "{'title': '20.\\nRaiders of the Lost Ark\\n(1981)', 'year': '(1981)', 'certificate': 'G', 'time': '115 min', 'genre': 'Action, Adventure', 'rating': '8.4', 'metascore': '85        \\n        Metascore', 'simple_desc': \"In 1936, archaeologist and adventurer Indiana Jones is hired by the U.S. government to find the Ark of the Covenant before Adolf Hitler's Nazis can obtain its awesome powers.\", 'votes': 'Votes:\\n945,820\\n| Gross:\\n$248.16M'}\n",
      "{'title': '21.\\nEverything Everywhere All at Once\\n(2022)', 'year': '(2022)', 'certificate': 'R', 'time': '139 min', 'genre': 'Action, Adventure, Comedy', 'rating': '8.3', 'metascore': '81        \\n        Metascore', 'simple_desc': 'An aging Chinese immigrant is swept up in an insane adventure, where she alone can save the world by exploring other universes connecting with the lives she could have led.', 'votes': 'Votes:\\n100,667'}\n",
      "{'title': '22.\\nSpider-Man: No Way Home\\n(2021)', 'year': '(2021)', 'certificate': 'PG-13', 'time': '148 min', 'genre': 'Action, Adventure, Fantasy', 'rating': '8.3', 'metascore': '71        \\n        Metascore', 'simple_desc': \"With Spider-Man's identity now revealed, Peter asks Doctor Strange for help. When a spell goes wrong, dangerous foes from other worlds start to appear, forcing Peter to discover what it truly means to be Spider-Man.\", 'votes': 'Votes:\\n649,056\\n| Gross:\\n$804.75M'}\n",
      "{'title': '23.\\nUp\\n(2009)', 'year': '(2009)', 'certificate': 'PG', 'time': '96 min', 'genre': 'Animation, Adventure, Comedy', 'rating': '8.3', 'metascore': '88        \\n        Metascore', 'simple_desc': '78-year-old Carl Fredricksen travels to Paradise Falls in his house equipped with balloons, inadvertently taking a young stowaway.', 'votes': 'Votes:\\n1,016,929\\n| Gross:\\n$293.00M'}\n",
      "{'title': '25.\\nInglourious Basterds\\n(2009)', 'year': '(2009)', 'certificate': 'R', 'time': '153 min', 'genre': 'Adventure, Drama, War', 'rating': '8.3', 'metascore': '69        \\n        Metascore', 'simple_desc': \"In Nazi-occupied France during World War II, a plan to assassinate Nazi leaders by a group of Jewish U.S. soldiers coincides with a theatre owner's vengeful plans for the same.\", 'votes': 'Votes:\\n1,399,372\\n| Gross:\\n$120.54M'}\n",
      "{'title': '26.\\nToy Story\\n(1995)', 'year': '(1995)', 'certificate': 'G', 'time': '81 min', 'genre': 'Animation, Adventure, Comedy', 'rating': '8.3', 'metascore': '95        \\n        Metascore', 'simple_desc': \"A cowboy doll is profoundly threatened and jealous when a new spaceman figure supplants him as top toy in a boy's room.\", 'votes': 'Votes:\\n966,719\\n| Gross:\\n$191.80M'}\n",
      "{'title': '27.\\nStar Wars: Episode VI - Return of the Jedi\\n(1983)', 'year': '(1983)', 'certificate': 'G', 'time': '131 min', 'genre': 'Action, Adventure, Fantasy', 'rating': '8.3', 'metascore': '58        \\n        Metascore', 'simple_desc': \"After a daring mission to rescue Han Solo from Jabba the Hutt, the Rebels dispatch to Endor to destroy the second Death Star. Meanwhile, Luke struggles to help Darth Vader back from the dark side without falling into the Emperor's trap.\", 'votes': 'Votes:\\n1,025,566\\n| Gross:\\n$309.13M'}\n",
      "{'title': '30.\\nNorth by Northwest\\n(1959)', 'year': '(1959)', 'certificate': 'G', 'time': '136 min', 'genre': 'Action, Adventure, Mystery', 'rating': '8.3', 'metascore': '98        \\n        Metascore', 'simple_desc': 'A New York City advertising executive goes on the run after being mistaken for a government agent by a group of foreign spies, and falls for a woman whose loyalties he begins to doubt.', 'votes': 'Votes:\\n322,361\\n| Gross:\\n$13.28M'}\n",
      "{'title': '31.\\nInside Out\\n(I) (2015)', 'year': '(I) (2015)', 'certificate': 'PG', 'time': '95 min', 'genre': 'Animation, Adventure, Comedy', 'rating': '8.2', 'metascore': '94        \\n        Metascore', 'simple_desc': 'After young Riley is uprooted from her Midwest life and moved to San Francisco, her emotions - Joy, Fear, Anger, Disgust and Sadness - conflict on how best to navigate a new city, house, and school.', 'votes': 'Votes:\\n690,488\\n| Gross:\\n$356.46M'}\n",
      "{'title': '32.\\nKimetsu no Yaiba: Mugen Ressha-Hen\\n(2020)', 'year': '(2020)', 'certificate': 'R', 'time': '117 min', 'genre': 'Animation, Action, Adventure', 'rating': '8.2', 'metascore': '72        \\n        Metascore', 'simple_desc': \"After his family was brutally murdered and his sister turned into a demon, Tanjiro Kamado's journey as a demon slayer began. Tanjiro and his comrades embark on a new mission aboard the Mugen Train, on track to despair.\", 'votes': 'Votes:\\n52,984\\n| Gross:\\n$47.70M'}\n"
     ]
    },
    {
     "name": "stdout",
     "output_type": "stream",
     "text": [
      "{'title': '33.\\nHauru no ugoku shiro\\n(2004)', 'year': '(2004)', 'certificate': 'PG', 'time': '119 min', 'genre': 'Animation, Adventure, Family', 'rating': '8.2', 'metascore': '80        \\n        Metascore', 'simple_desc': 'When an unconfident young woman is cursed with an old body by a spiteful witch, her only chance of breaking the spell lies with a self-indulgent yet insecure young wizard and his companions in his legged, walking castle.', 'votes': 'Votes:\\n381,149\\n| Gross:\\n$4.71M'}\n",
      "{'title': '35.\\nJurassic Park\\n(1993)', 'year': '(1993)', 'certificate': 'PG', 'time': '127 min', 'genre': 'Action, Adventure, Sci-Fi', 'rating': '8.2', 'metascore': '68        \\n        Metascore', 'simple_desc': \"A pragmatic paleontologist touring an almost complete theme park on an island in Central America is tasked with protecting a couple of kids after a power failure causes the park's cloned dinosaurs to run loose.\", 'votes': 'Votes:\\n950,511\\n| Gross:\\n$402.45M'}\n",
      "{'title': '36.\\nIndiana Jones and the Last Crusade\\n(1989)', 'year': '(1989)', 'certificate': 'G', 'time': '127 min', 'genre': 'Action, Adventure', 'rating': '8.2', 'metascore': '65        \\n        Metascore', 'simple_desc': 'In 1938, after his father Professor Henry Jones, Sr. goes missing while pursuing the Holy Grail, Professor Henry \"Indiana\" Jones, Jr. finds himself up against Adolf Hitler\\'s Nazis again to stop them from obtaining its powers.', 'votes': 'Votes:\\n739,947\\n| Gross:\\n$197.17M'}\n",
      "{'title': '40.\\nThe Bridge on the River Kwai\\n(1957)', 'year': '(1957)', 'certificate': 'PG', 'time': '161 min', 'genre': 'Adventure, Drama, War', 'rating': '8.2', 'metascore': '87        \\n        Metascore', 'simple_desc': 'British POWs are forced to build a railway bridge across the river Kwai for their Japanese captors in occupied Burma, not knowing that the allied forces are planning a daring commando raid through the jungle to destroy it.', 'votes': 'Votes:\\n217,740\\n| Gross:\\n$44.91M'}\n",
      "{'title': '45.\\nKlaus\\n(2019)', 'year': '(2019)', 'certificate': 'PG', 'time': '96 min', 'genre': 'Animation, Adventure, Comedy', 'rating': '8.1', 'metascore': '65        \\n        Metascore', 'simple_desc': \"A simple act of kindness always sparks another, even in a frozen, faraway place. When Smeerensburg's new postman, Jesper, befriends toymaker Klaus, their gifts melt an age-old feud and deliver a sleigh full of holiday traditions.\", 'votes': 'Votes:\\n142,789'}\n",
      "{'title': '48.\\nThe Grand Budapest Hotel\\n(2014)', 'year': '(2014)', 'certificate': 'R', 'time': '99 min', 'genre': 'Adventure, Comedy, Crime', 'rating': '8.1', 'metascore': '88        \\n        Metascore', 'simple_desc': \"A writer encounters the owner of an aging high-class hotel, who tells him of his early years serving as a lobby boy in the hotel's glorious years under an exceptional concierge.\", 'votes': 'Votes:\\n783,685\\n| Gross:\\n$59.10M'}\n",
      "{'title': '49.\\nMad Max: Fury Road\\n(2015)', 'year': '(2015)', 'certificate': 'R', 'time': '120 min', 'genre': 'Action, Adventure, Sci-Fi', 'rating': '8.1', 'metascore': '90        \\n        Metascore', 'simple_desc': 'In a post-apocalyptic wasteland, a woman rebels against a tyrannical ruler in search for her homeland with the aid of a group of female prisoners, a psychotic worshiper, and a drifter named Max.', 'votes': 'Votes:\\n972,681\\n| Gross:\\n$154.06M'}\n",
      "{'title': '50.\\nHarry Potter and the Deathly Hallows: Part 2\\n(2011)', 'year': '(2011)', 'certificate': 'PG-13', 'time': '130 min', 'genre': 'Adventure, Fantasy, Mystery', 'rating': '8.1', 'metascore': '85        \\n        Metascore', 'simple_desc': \"Harry, Ron, and Hermione search for Voldemort's remaining Horcruxes in their effort to destroy the Dark Lord as the final battle rages on at Hogwarts.\", 'votes': 'Votes:\\n849,239\\n| Gross:\\n$381.01M'}\n"
     ]
    }
   ],
   "source": [
    "url = \"https://www.imdb.com/search/title/?genres=Adventure&sort=user_rating,desc&title_type=feature&num_votes=25000,&pf_rd_m=A2FGELUUNOQJNL&pf_rd_p=5aab685f-35eb-40f3-95f7-c53f09d542c3&pf_rd_r=N97GEQS6R7J9EV7V770D&pf_rd_s=right-6&pf_rd_t=15506&pf_rd_i=top&ref_=chttp_gnr_16\"\n",
    "\n",
    "# Sending a request to the speciifed URL\n",
    "resp = requests.get(url, headers=HEADERS)\n",
    "\n",
    "# Converting the response to Beautiful Soup Object\n",
    "content = BeautifulSoup(resp.content, 'lxml')\n",
    "\n",
    "# Iterating throught the list of movies \n",
    "for movie in content.select('.lister-item-content'):\n",
    "        \n",
    "    try:\n",
    "        # Creating a python dictonary\n",
    "        data = {\n",
    "            \n",
    "            \"title\":movie.select('.lister-item-header')[0].get_text().strip(),\n",
    "            \"year\":movie.select('.lister-item-year')[0].get_text().strip(),\n",
    "            \"certificate\":movie.select('.certificate')[0].get_text().strip(),\n",
    "            \"time\":movie.select('.runtime')[0].get_text().strip(),\n",
    "            \"genre\":movie.select('.genre')[0].get_text().strip(),\n",
    "            \"rating\":movie.select('.ratings-imdb-rating')[0].get_text().strip(),\n",
    "            \"metascore\":movie.select('.ratings-metascore')[0].get_text().strip(),\n",
    "            \"simple_desc\":movie.select('.text-muted')[2].get_text().strip(),\n",
    "            \"votes\":movie.select('.sort-num_votes-visible')[0].get_text().strip()\n",
    "            \n",
    "                \n",
    "        }\n",
    "    except IndexError:\n",
    "        continue\n",
    "        \n",
    "    print(data)"
   ]
  },
  {
   "cell_type": "markdown",
   "id": "4d086c00",
   "metadata": {},
   "source": [
    "#### Extract information such as the title, genre, year of release, rating, certificate, Metascore, votes, and so on."
   ]
  },
  {
   "cell_type": "code",
   "execution_count": 4,
   "id": "15632f18",
   "metadata": {},
   "outputs": [],
   "source": [
    "import time\n",
    "\n",
    "def get_movies(url, interval, file_name):\n",
    "    \n",
    "    resp = requests.get(url, headers=HEADERS)\n",
    "    content = BeautifulSoup(resp.content, 'lxml')\n",
    "\n",
    "    movie_list = []\n",
    "\n",
    "    for movie in content.select('.lister-item-content'):\n",
    "        time.sleep(interval)\n",
    "        try:\n",
    "            data = {\n",
    "                \"title\":movie.select('.lister-item-header')[0].get_text().strip(),\n",
    "                \"year\":movie.select('.lister-item-year')[0].get_text().strip(),\n",
    "                \"certificate\":movie.select('.certificate')[0].get_text().strip(),\n",
    "                \"time\":movie.select('.runtime')[0].get_text().strip(),\n",
    "                \"genre\":movie.select('.genre')[0].get_text().strip(),\n",
    "                \"rating\":movie.select('.ratings-imdb-rating')[0].get_text().strip(),\n",
    "                \"metascore\":movie.select('.ratings-metascore')[0].get_text().strip(),\n",
    "                \"simple_desc\":movie.select('.text-muted')[2].get_text().strip(),\n",
    "                \"votes\":movie.select('.sort-num_votes-visible')[0].get_text().strip()\n",
    "            \n",
    "                \n",
    "            }\n",
    "        except IndexError:\n",
    "            continue\n",
    "    \n",
    "        movie_list.append(data)\n",
    "         \n",
    "        \n",
    "    dataframe = pd.DataFrame(movie_list)\n",
    "    dataframe.to_csv(file_name)\n",
    "\n",
    "url = \"https://www.imdb.com/search/title/?genres=Adventure&sort=user_rating,desc&title_type=feature&num_votes=25000,&pf_rd_m=A2FGELUUNOQJNL&pf_rd_p=5aab685f-35eb-40f3-95f7-c53f09d542c3&pf_rd_r=N97GEQS6R7J9EV7V770D&pf_rd_s=right-6&pf_rd_t=15506&pf_rd_i=top&ref_=chttp_gnr_16\"\n",
    "\n",
    "# Calling the function\n",
    "get_movies(url, 0, 'Adventure_movies.csv')"
   ]
  },
  {
   "cell_type": "markdown",
   "id": "1e6b5435",
   "metadata": {},
   "source": [
    "#### Convert all data into a pandas data frame and save as a CSV file."
   ]
  },
  {
   "cell_type": "code",
   "execution_count": null,
   "id": "7cfe18cb",
   "metadata": {},
   "outputs": [
    {
     "name": "stdout",
     "output_type": "stream",
     "text": [
      "Saved: Adventure.csv\n",
      "Saved: Animation.csv\n",
      "Saved: Biography.csv\n",
      "Saved: Comedy.csv\n",
      "Saved: Crime.csv\n",
      "Saved: Drama.csv\n",
      "Saved: Family.csv\n",
      "Saved: Fantasy.csv\n",
      "Saved: Film-Noir.csv\n",
      "Saved: History.csv\n",
      "Saved: Horror.csv\n"
     ]
    }
   ],
   "source": [
    "for genre, url in url_dict.items():\n",
    "    get_movies(url, 1, genre+'.csv')\n",
    "    print(\"Saved:\", genre+'.csv')"
   ]
  }
 ],
 "metadata": {
  "kernelspec": {
   "display_name": "Python 3 (ipykernel)",
   "language": "python",
   "name": "python3"
  },
  "language_info": {
   "codemirror_mode": {
    "name": "ipython",
    "version": 3
   },
   "file_extension": ".py",
   "mimetype": "text/x-python",
   "name": "python",
   "nbconvert_exporter": "python",
   "pygments_lexer": "ipython3",
   "version": "3.9.7"
  }
 },
 "nbformat": 4,
 "nbformat_minor": 5
}
